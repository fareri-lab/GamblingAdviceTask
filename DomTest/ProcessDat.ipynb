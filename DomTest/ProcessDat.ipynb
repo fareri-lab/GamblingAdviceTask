{
 "cells": [
  {
   "cell_type": "code",
   "execution_count": 2,
   "metadata": {},
   "outputs": [],
   "source": [
    "import codecs\n",
    "import glob\n",
    "import os\n",
    "import re\n",
    "import time\n",
    "try:\n",
    "    import cPickle as pickle\n",
    "except:\n",
    "    import pickle\n",
    "\n",
    "import pandas as pd\n",
    "import numpy as np\n",
    "from scipy import optimize\n",
    "import scipy as sp\n",
    "from scipy import stats as stats\n",
    "import matplotlib.pyplot as plt\n",
    "import statsmodels.api as sm\n",
    "#import altair as alt"
   ]
  },
  {
   "cell_type": "code",
   "execution_count": null,
   "metadata": {},
   "outputs": [],
   "source": [
    "    "
   ]
  },
  {
   "cell_type": "code",
   "execution_count": 4,
   "metadata": {},
   "outputs": [],
   "source": [
    "# # Load in and preprocess trust rating data\n",
    "\n",
    "# tr_1s_df=pd.DataFrame()\n",
    "# # fname='../week1_tasks/tr_1s//tr_1s_542473a4fdf99b691fb38455_SESSION_2020-04-05_22h04.04.669.csv' # for testing\n",
    "# for fname in glob.iglob('../week1_tasks/tr_1s/tr_1s_*.csv'):\n",
    "#     dat=pd.read_csv(fname)\n",
    "#     dat.dropna(subset=['trialrace'], inplace=True)\n",
    "#     dat['normedkey']=stats.zscore(dat.key_press)\n",
    "#     tmpMeanRat=dat.groupby(['trialrace']).mean().key_press\n",
    "#     tmpMeanRat.rename(dat.subject_id.iloc[0], inplace=True)    \n",
    "#     tmpNormMeanRat=dat.groupby(['trialrace']).mean().normedkey\n",
    "#     tmpNormMeanRat.rename(dat.subject_id.iloc[0], inplace=True)\n",
    "#     tmpNormMeanRat=tmpNormMeanRat.to_frame().transpose()\n",
    "#     tmpNormMeanRat.columns=['nm_'+col for col in tmpNormMeanRat.columns]\n",
    "#     tmp_tr_1s=tmpMeanRat.to_frame().transpose().join(tmpNormMeanRat)\n",
    "#     tmp_tr_1s.loc[dat.subject_id.iloc[0],'rt_lt_300']=np.sum(dat.rt<300)\n",
    "#     tmp_tr_1s.loc[dat.subject_id.iloc[0],'fname']=fname\n",
    "#     tr_1s_df=tr_1s_df.append(tmp_tr_1s)\n",
    "\n",
    "    \n",
    "# # Eliminate later runs of duplicates\n",
    "# tr_1s_df=tr_1s_df[~tr_1s_df['fname'].isin([i for i in tr_1s_df[tr_1s_df.index.duplicated()].fname])]"
   ]
  },
  {
   "cell_type": "code",
   "execution_count": 9,
   "metadata": {},
   "outputs": [],
   "source": [
    "subjs=[]\n",
    "#for fname in glob.iglob('*Tests_*.csv'):  #120 only\n",
    "for fname in glob.iglob('*Test_*.csv'):  #all other subs\n",
    "    dat=pd.read_csv(fname)\n",
    "    tmpdat=dat[pd.to_numeric(dat['GambleAdviceNum'], errors='coerce').isnull()]\n",
    "    \n",
    "    for i in tmpdat.GambleAdviceNum.dropna().index:\n",
    "        dat.iloc[i,3]=dat.iloc[i,3]+','+dat.iloc[i,4]\n",
    "        \n",
    "        for j in np.arange(4,dat.shape[1]-1):\n",
    "            dat.iloc[i,j]=dat.iloc[i,j+1]\n",
    "            \n",
    "    dat.dropna(subset=['Choice'], inplace=True) #drop trials with NaN in choice column - inplace means replace orig array with result\n",
    "    #dat=dat.iloc[:,:-2] for sub 120 only\n",
    "    dat=dat.iloc[:,:-3]\n",
    "    dat.columns=list(dat.columns[:95])+['gender','date','expName','psychopyVersion','frameRate']\n",
    "    dat['response.keys']=dat['response.keys'].replace('None','').apply(pd.to_numeric)\n",
    "    dat['response.keys']=dat['response.keys'].replace('2','0') #code choice to not take advice as 0 instead of 2\n",
    "    dat['resp.keys']=dat['resp.keys'].replace('left','0') #safe\n",
    "    dat['resp.keys']=dat['resp.keys'].replace('right','1') #gamble\n",
    "    dat['key_resp_3.keys']=dat['key_resp_3.keys'].replace('left','0') #expert adviser\n",
    "    dat['key_resp_3.keys']=dat['key_resp_3.keys'].replace('right','1') #novice adviser\n",
    "    dat['response.rt']=dat['response.rt'].apply(pd.to_numeric)\n",
    "    dat.to_csv('processed/'+fname[:-4]+'_proc.csv')\n",
    "    \n",
    "#     meanRT=dat['response.rt'].mean()\n",
    "#     meanResp=dat['response.keys'].mean()\n",
    "    \n",
    "#     summ={'RT': meanRT,\n",
    "#          'resp': meanResp}\n",
    "    \n",
    "#     subjs.append(summ)\n",
    "    \n"
   ]
  },
  {
   "cell_type": "code",
   "execution_count": null,
   "metadata": {},
   "outputs": [],
   "source": []
  },
  {
   "cell_type": "code",
   "execution_count": null,
   "metadata": {},
   "outputs": [],
   "source": []
  },
  {
   "cell_type": "code",
   "execution_count": 5,
   "metadata": {},
   "outputs": [
    {
     "data": {
      "text/plain": [
       "'119_Test_2020_Mar_04_1159_DF.csv'"
      ]
     },
     "execution_count": 5,
     "metadata": {},
     "output_type": "execute_result"
    }
   ],
   "source": [
    "fname"
   ]
  },
  {
   "cell_type": "code",
   "execution_count": null,
   "metadata": {},
   "outputs": [],
   "source": []
  },
  {
   "cell_type": "code",
   "execution_count": null,
   "metadata": {},
   "outputs": [],
   "source": []
  },
  {
   "cell_type": "code",
   "execution_count": null,
   "metadata": {},
   "outputs": [],
   "source": []
  },
  {
   "cell_type": "code",
   "execution_count": null,
   "metadata": {},
   "outputs": [],
   "source": []
  },
  {
   "cell_type": "code",
   "execution_count": null,
   "metadata": {},
   "outputs": [],
   "source": []
  },
  {
   "cell_type": "code",
   "execution_count": null,
   "metadata": {},
   "outputs": [],
   "source": [
    "tmp=pd.DataFrame()"
   ]
  },
  {
   "cell_type": "code",
   "execution_count": null,
   "metadata": {},
   "outputs": [],
   "source": [
    "tmp.loc[fname[:3],'RT']=meanRT"
   ]
  },
  {
   "cell_type": "code",
   "execution_count": null,
   "metadata": {},
   "outputs": [],
   "source": [
    "tmp.loc[fname[:3],'resp']=meanResp"
   ]
  },
  {
   "cell_type": "code",
   "execution_count": 11,
   "metadata": {},
   "outputs": [
    {
     "data": {
      "text/plain": [
       "'119_Test_2020_Mar_04_1159_DF.csv'"
      ]
     },
     "execution_count": 11,
     "metadata": {},
     "output_type": "execute_result"
    }
   ],
   "source": [
    "fname"
   ]
  },
  {
   "cell_type": "code",
   "execution_count": 20,
   "metadata": {},
   "outputs": [
    {
     "data": {
      "text/plain": [
       "key_resp_3.keys\n",
       "left     1.666667\n",
       "right    1.800000\n",
       "Name: response.keys, dtype: float64"
      ]
     },
     "execution_count": 20,
     "metadata": {},
     "output_type": "execute_result"
    }
   ],
   "source": [
    "dat.groupby(['key_resp_3.keys']).mean()['response.keys']"
   ]
  },
  {
   "cell_type": "code",
   "execution_count": 22,
   "metadata": {},
   "outputs": [
    {
     "data": {
      "text/plain": [
       "GambleAdviceType\n",
       "risk    1.732824\n",
       "safe    1.608696\n",
       "Name: response.keys, dtype: float64"
      ]
     },
     "execution_count": 22,
     "metadata": {},
     "output_type": "execute_result"
    }
   ],
   "source": [
    "dat.groupby(['GambleAdviceType']).mean()['response.keys']"
   ]
  },
  {
   "cell_type": "code",
   "execution_count": null,
   "metadata": {},
   "outputs": [],
   "source": []
  },
  {
   "cell_type": "code",
   "execution_count": null,
   "metadata": {},
   "outputs": [],
   "source": []
  },
  {
   "cell_type": "code",
   "execution_count": 17,
   "metadata": {},
   "outputs": [],
   "source": [
    "# [print(i) for i in dat.columns]"
   ]
  },
  {
   "cell_type": "code",
   "execution_count": 36,
   "metadata": {},
   "outputs": [
    {
     "data": {
      "text/plain": [
       "GambleAdviceType\n",
       "risk    1.582677\n",
       "safe    1.556962\n",
       "Name: response.keys, dtype: float64"
      ]
     },
     "execution_count": 36,
     "metadata": {},
     "output_type": "execute_result"
    }
   ],
   "source": [
    "dat.groupby(['GambleAdviceType']).mean()['response.keys']"
   ]
  },
  {
   "cell_type": "code",
   "execution_count": 134,
   "metadata": {},
   "outputs": [],
   "source": [
    "# dat.rename(columns=\n",
    "# .columns=list(dat.columns[:95])+['gender','date','expName','psychopyVersion','frameRate']"
   ]
  },
  {
   "cell_type": "code",
   "execution_count": null,
   "metadata": {},
   "outputs": [],
   "source": []
  },
  {
   "cell_type": "code",
   "execution_count": null,
   "metadata": {},
   "outputs": [],
   "source": []
  },
  {
   "cell_type": "code",
   "execution_count": 12,
   "metadata": {},
   "outputs": [],
   "source": []
  },
  {
   "cell_type": "code",
   "execution_count": null,
   "metadata": {},
   "outputs": [],
   "source": []
  },
  {
   "cell_type": "code",
   "execution_count": null,
   "metadata": {},
   "outputs": [],
   "source": []
  }
 ],
 "metadata": {
  "kernelspec": {
   "display_name": "Python 2",
   "language": "python",
   "name": "python2"
  },
  "language_info": {
   "codemirror_mode": {
    "name": "ipython",
    "version": 2
   },
   "file_extension": ".py",
   "mimetype": "text/x-python",
   "name": "python",
   "nbconvert_exporter": "python",
   "pygments_lexer": "ipython2",
   "version": "2.7.16"
  }
 },
 "nbformat": 4,
 "nbformat_minor": 4
}

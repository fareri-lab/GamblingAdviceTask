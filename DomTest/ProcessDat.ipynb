{
 "cells": [
  {
   "cell_type": "code",
   "execution_count": 2,
   "metadata": {},
   "outputs": [],
   "source": [
    "import codecs\n",
    "import glob\n",
    "import os\n",
    "import re\n",
    "import time\n",
    "try:\n",
    "    import cPickle as pickle\n",
    "except:\n",
    "    import pickle\n",
    "\n",
    "import pandas as pd\n",
    "import numpy as np\n",
    "from scipy import optimize\n",
    "import scipy as sp\n",
    "from scipy import stats as stats\n",
    "import matplotlib.pyplot as plt\n",
    "import statsmodels.api as sm\n",
    "#import altair as alt"
   ]
  },
  {
   "cell_type": "code",
   "execution_count": null,
   "metadata": {},
   "outputs": [],
   "source": [
    "    "
   ]
  },
  {
   "cell_type": "code",
   "execution_count": 4,
   "metadata": {},
   "outputs": [],
   "source": [
    "# # Load in and preprocess trust rating data\n",
    "\n",
    "# tr_1s_df=pd.DataFrame()\n",
    "# # fname='../week1_tasks/tr_1s//tr_1s_542473a4fdf99b691fb38455_SESSION_2020-04-05_22h04.04.669.csv' # for testing\n",
    "# for fname in glob.iglob('../week1_tasks/tr_1s/tr_1s_*.csv'):\n",
    "#     dat=pd.read_csv(fname)\n",
    "#     dat.dropna(subset=['trialrace'], inplace=True)\n",
    "#     dat['normedkey']=stats.zscore(dat.key_press)\n",
    "#     tmpMeanRat=dat.groupby(['trialrace']).mean().key_press\n",
    "#     tmpMeanRat.rename(dat.subject_id.iloc[0], inplace=True)    \n",
    "#     tmpNormMeanRat=dat.groupby(['trialrace']).mean().normedkey\n",
    "#     tmpNormMeanRat.rename(dat.subject_id.iloc[0], inplace=True)\n",
    "#     tmpNormMeanRat=tmpNormMeanRat.to_frame().transpose()\n",
    "#     tmpNormMeanRat.columns=['nm_'+col for col in tmpNormMeanRat.columns]\n",
    "#     tmp_tr_1s=tmpMeanRat.to_frame().transpose().join(tmpNormMeanRat)\n",
    "#     tmp_tr_1s.loc[dat.subject_id.iloc[0],'rt_lt_300']=np.sum(dat.rt<300)\n",
    "#     tmp_tr_1s.loc[dat.subject_id.iloc[0],'fname']=fname\n",
    "#     tr_1s_df=tr_1s_df.append(tmp_tr_1s)\n",
    "\n",
    "    \n",
    "# # Eliminate later runs of duplicates\n",
    "# tr_1s_df=tr_1s_df[~tr_1s_df['fname'].isin([i for i in tr_1s_df[tr_1s_df.index.duplicated()].fname])]"
   ]
  },
  {
   "cell_type": "code",
   "execution_count": 21,
   "metadata": {},
   "outputs": [],
   "source": [
    "subjs=[]\n",
    "for fname in glob.iglob('*Tests_*.csv'):  #120 only\n",
    "#for fname in glob.iglob('*Test_*.csv'):  #all other subs\n",
    "    dat=pd.read_csv(fname)\n",
    "    tmpdat=dat[pd.to_numeric(dat['GambleAdviceNum'], errors='coerce').isnull()]\n",
    "    \n",
    "    for i in tmpdat.GambleAdviceNum.dropna().index:\n",
    "        dat.iloc[i,3]=dat.iloc[i,3]+','+dat.iloc[i,4]\n",
    "        \n",
    "        for j in np.arange(4,dat.shape[1]-1):\n",
    "            dat.iloc[i,j]=dat.iloc[i,j+1]\n",
    "            \n",
    "    dat.dropna(subset=['Choice'], inplace=True) #drop trials with NaN in choice column - inplace means replace orig array with result\n",
    "    dat=dat.iloc[:,:-2] #for sub 120 only\n",
    "    #dat=dat.iloc[:,:-3]\n",
    "    dat.columns=list(dat.columns[:95])+['gender','date','expName','psychopyVersion','frameRate']\n",
    "    dat['response.keys']=dat['response.keys'].replace('2','0') #code choice to not take advice as 0 instead of 2\n",
    "    dat['response.keys']=dat['response.keys'].replace('None','').apply(pd.to_numeric)\n",
    "    dat['resp.keys']=dat['resp.keys'].replace('left','0') #safe\n",
    "    dat['resp.keys']=dat['resp.keys'].replace('right','1') #gamble\n",
    "    dat['resp.keys']=dat['resp.keys'].replace('None','').apply(pd.to_numeric)\n",
    "    dat['key_resp_3.keys']=dat['key_resp_3.keys'].replace('left','0') #expert adviser\n",
    "    dat['key_resp_3.keys']=dat['key_resp_3.keys'].replace('right','1') #novice adviser\n",
    "    dat['response.rt']=dat['response.rt'].apply(pd.to_numeric)\n",
    "    dat['Amount']=dat['Amount'].replace('Pictures/IA20.bmp','20')\n",
    "    dat['Amount']=dat['Amount'].replace('Pictures/IA25.bmp','25')\n",
    "    dat['Amount']=dat['Amount'].replace('Pictures/IA40.bmp','40')       \n",
    "    dat['Amount']=dat['Amount'].replace('Pictures/IA50.bmp','50')\n",
    "    dat['Amount']=dat['Amount'].replace('Pictures/IA75.bmp','75')\n",
    "    dat['Amount']=dat['Amount'].replace('Pictures/IA80.bmp','80')\n",
    "    dat['Amount']=dat['Amount'].replace('Pictures/IA100.bmp','100')       \n",
    "    dat['Amount']=dat['Amount'].replace('Pictures/IA110.bmp','110')\n",
    "    dat.to_csv('processed/'+fname[:-4]+'_proc.csv')\n",
    "    \n",
    "#     meanRT=dat['response.rt'].mean()\n",
    "#     meanResp=dat['response.keys'].mean()\n",
    "    \n",
    "#     summ={'RT': meanRT,\n",
    "#          'resp': meanResp}\n",
    "    \n",
    "#     subjs.append(summ)\n",
    "    \n"
   ]
  },
  {
   "cell_type": "code",
   "execution_count": null,
   "metadata": {},
   "outputs": [],
   "source": []
  },
  {
   "cell_type": "code",
   "execution_count": null,
   "metadata": {},
   "outputs": [],
   "source": []
  },
  {
   "cell_type": "code",
   "execution_count": 14,
   "metadata": {},
   "outputs": [
    {
     "data": {
      "text/plain": [
       "4                      50\n",
       "5      Pictures/IA100.bmp\n",
       "6                      50\n",
       "7                      50\n",
       "8      Pictures/IA100.bmp\n",
       "9                      50\n",
       "11                     50\n",
       "12                     50\n",
       "13      Pictures/IA25.bmp\n",
       "14     Pictures/IA110.bmp\n",
       "15     Pictures/IA100.bmp\n",
       "16      Pictures/IA25.bmp\n",
       "17     Pictures/IA100.bmp\n",
       "18      Pictures/IA80.bmp\n",
       "19      Pictures/IA25.bmp\n",
       "20                     50\n",
       "21      Pictures/IA80.bmp\n",
       "22     Pictures/IA100.bmp\n",
       "23      Pictures/IA75.bmp\n",
       "24     Pictures/IA100.bmp\n",
       "25      Pictures/IA75.bmp\n",
       "26      Pictures/IA75.bmp\n",
       "27      Pictures/IA75.bmp\n",
       "28      Pictures/IA75.bmp\n",
       "29      Pictures/IA40.bmp\n",
       "30                     50\n",
       "32                     50\n",
       "33     Pictures/IA100.bmp\n",
       "34                     50\n",
       "35      Pictures/IA75.bmp\n",
       "              ...        \n",
       "189                    50\n",
       "190                    50\n",
       "191     Pictures/IA75.bmp\n",
       "192    Pictures/IA110.bmp\n",
       "193     Pictures/IA75.bmp\n",
       "194    Pictures/IA100.bmp\n",
       "195     Pictures/IA25.bmp\n",
       "196     Pictures/IA80.bmp\n",
       "197     Pictures/IA25.bmp\n",
       "198     Pictures/IA20.bmp\n",
       "200     Pictures/IA75.bmp\n",
       "201     Pictures/IA25.bmp\n",
       "202     Pictures/IA25.bmp\n",
       "203    Pictures/IA100.bmp\n",
       "204     Pictures/IA80.bmp\n",
       "205     Pictures/IA75.bmp\n",
       "206     Pictures/IA25.bmp\n",
       "207     Pictures/IA40.bmp\n",
       "208    Pictures/IA100.bmp\n",
       "209                    50\n",
       "210     Pictures/IA75.bmp\n",
       "211     Pictures/IA80.bmp\n",
       "212                    50\n",
       "213                    50\n",
       "214     Pictures/IA20.bmp\n",
       "215     Pictures/IA20.bmp\n",
       "216    Pictures/IA110.bmp\n",
       "217    Pictures/IA100.bmp\n",
       "218    Pictures/IA100.bmp\n",
       "219    Pictures/IA100.bmp\n",
       "Name: Amount, Length: 206, dtype: object"
      ]
     },
     "execution_count": 14,
     "metadata": {},
     "output_type": "execute_result"
    }
   ],
   "source": [
    "dat['Amount'].replace('Pictures/IA50.bmp','50')"
   ]
  },
  {
   "cell_type": "code",
   "execution_count": null,
   "metadata": {},
   "outputs": [],
   "source": []
  },
  {
   "cell_type": "code",
   "execution_count": null,
   "metadata": {},
   "outputs": [],
   "source": []
  },
  {
   "cell_type": "code",
   "execution_count": null,
   "metadata": {},
   "outputs": [],
   "source": []
  },
  {
   "cell_type": "code",
   "execution_count": null,
   "metadata": {},
   "outputs": [],
   "source": []
  },
  {
   "cell_type": "code",
   "execution_count": null,
   "metadata": {},
   "outputs": [],
   "source": []
  },
  {
   "cell_type": "code",
   "execution_count": null,
   "metadata": {},
   "outputs": [],
   "source": []
  },
  {
   "cell_type": "code",
   "execution_count": null,
   "metadata": {},
   "outputs": [],
   "source": [
    "tmp=pd.DataFrame()"
   ]
  },
  {
   "cell_type": "code",
   "execution_count": null,
   "metadata": {},
   "outputs": [],
   "source": [
    "tmp.loc[fname[:3],'RT']=meanRT"
   ]
  },
  {
   "cell_type": "code",
   "execution_count": null,
   "metadata": {},
   "outputs": [],
   "source": [
    "tmp.loc[fname[:3],'resp']=meanResp"
   ]
  },
  {
   "cell_type": "code",
   "execution_count": 11,
   "metadata": {},
   "outputs": [
    {
     "data": {
      "text/plain": [
       "'119_Test_2020_Mar_04_1159_DF.csv'"
      ]
     },
     "execution_count": 11,
     "metadata": {},
     "output_type": "execute_result"
    }
   ],
   "source": [
    "fname"
   ]
  },
  {
   "cell_type": "code",
   "execution_count": 20,
   "metadata": {},
   "outputs": [
    {
     "data": {
      "text/plain": [
       "key_resp_3.keys\n",
       "left     1.666667\n",
       "right    1.800000\n",
       "Name: response.keys, dtype: float64"
      ]
     },
     "execution_count": 20,
     "metadata": {},
     "output_type": "execute_result"
    }
   ],
   "source": [
    "dat.groupby(['key_resp_3.keys']).mean()['response.keys']"
   ]
  },
  {
   "cell_type": "code",
   "execution_count": 22,
   "metadata": {},
   "outputs": [
    {
     "data": {
      "text/plain": [
       "GambleAdviceType\n",
       "risk    1.732824\n",
       "safe    1.608696\n",
       "Name: response.keys, dtype: float64"
      ]
     },
     "execution_count": 22,
     "metadata": {},
     "output_type": "execute_result"
    }
   ],
   "source": [
    "dat.groupby(['GambleAdviceType']).mean()['response.keys']"
   ]
  },
  {
   "cell_type": "code",
   "execution_count": null,
   "metadata": {},
   "outputs": [],
   "source": []
  },
  {
   "cell_type": "code",
   "execution_count": null,
   "metadata": {},
   "outputs": [],
   "source": []
  },
  {
   "cell_type": "code",
   "execution_count": 17,
   "metadata": {},
   "outputs": [],
   "source": [
    "# [print(i) for i in dat.columns]"
   ]
  },
  {
   "cell_type": "code",
   "execution_count": 36,
   "metadata": {},
   "outputs": [
    {
     "data": {
      "text/plain": [
       "GambleAdviceType\n",
       "risk    1.582677\n",
       "safe    1.556962\n",
       "Name: response.keys, dtype: float64"
      ]
     },
     "execution_count": 36,
     "metadata": {},
     "output_type": "execute_result"
    }
   ],
   "source": [
    "dat.groupby(['GambleAdviceType']).mean()['response.keys']"
   ]
  },
  {
   "cell_type": "code",
   "execution_count": 134,
   "metadata": {},
   "outputs": [],
   "source": [
    "# dat.rename(columns=\n",
    "# .columns=list(dat.columns[:95])+['gender','date','expName','psychopyVersion','frameRate']"
   ]
  },
  {
   "cell_type": "code",
   "execution_count": null,
   "metadata": {},
   "outputs": [],
   "source": []
  },
  {
   "cell_type": "code",
   "execution_count": null,
   "metadata": {},
   "outputs": [],
   "source": []
  },
  {
   "cell_type": "code",
   "execution_count": 12,
   "metadata": {},
   "outputs": [],
   "source": []
  },
  {
   "cell_type": "code",
   "execution_count": null,
   "metadata": {},
   "outputs": [],
   "source": []
  },
  {
   "cell_type": "code",
   "execution_count": null,
   "metadata": {},
   "outputs": [],
   "source": []
  }
 ],
 "metadata": {
  "kernelspec": {
   "display_name": "Python 2",
   "language": "python",
   "name": "python2"
  },
  "language_info": {
   "codemirror_mode": {
    "name": "ipython",
    "version": 2
   },
   "file_extension": ".py",
   "mimetype": "text/x-python",
   "name": "python",
   "nbconvert_exporter": "python",
   "pygments_lexer": "ipython2",
   "version": "2.7.16"
  }
 },
 "nbformat": 4,
 "nbformat_minor": 4
}
